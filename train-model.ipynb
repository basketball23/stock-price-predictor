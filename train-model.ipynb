{
 "cells": [
  {
   "cell_type": "code",
   "execution_count": 1,
   "id": "0e2334ce",
   "metadata": {},
   "outputs": [],
   "source": [
    "import tensorflow as tf\n",
    "import pandas as pd\n",
    "import numpy as np\n",
    "import matplotlib.pyplot as plt\n"
   ]
  },
  {
   "cell_type": "code",
   "execution_count": null,
   "id": "627ab921",
   "metadata": {},
   "outputs": [
    {
     "name": "stdout",
     "output_type": "stream",
     "text": [
      "<bound method NDFrame.head of      Nasdaq Traded Symbol                                      Security Name  \\\n",
      "0                Y      A            Agilent Technologies, Inc. Common Stock   \n",
      "1                Y     AA                    Alcoa Corporation Common Stock    \n",
      "2                Y   AAAU                       Perth Mint Physical Gold ETF   \n",
      "3                Y   AACG  ATA Creativity Global - American Depositary Sh...   \n",
      "4                Y   AADR                AdvisorShares Dorsey Wright ADR ETF   \n",
      "...            ...    ...                                                ...   \n",
      "8044             Y    ZUO                   Zuora, Inc. Class A Common Stock   \n",
      "8045             Y    ZVO                          Zovio Inc. - Common Stock   \n",
      "8046             Y   ZYME                       Zymeworks Inc. Common Shares   \n",
      "8047             Y   ZYNE       Zynerba Pharmaceuticals, Inc. - Common Stock   \n",
      "8048             Y   ZYXI                         Zynex, Inc. - Common Stock   \n",
      "\n",
      "     Listing Exchange Market Category ETF  Round Lot Size Test Issue  \\\n",
      "0                   N                   N           100.0          N   \n",
      "1                   N                   N           100.0          N   \n",
      "2                   P                   Y           100.0          N   \n",
      "3                   Q               G   N           100.0          N   \n",
      "4                   P                   Y           100.0          N   \n",
      "...               ...             ...  ..             ...        ...   \n",
      "8044                N                   N           100.0          N   \n",
      "8045                Q               Q   N           100.0          N   \n",
      "8046                N                   N           100.0          N   \n",
      "8047                Q               G   N           100.0          N   \n",
      "8048                Q               S   N           100.0          N   \n",
      "\n",
      "     Financial Status CQS Symbol NASDAQ Symbol NextShares  \n",
      "0                 NaN          A             A          N  \n",
      "1                 NaN         AA            AA          N  \n",
      "2                 NaN       AAAU          AAAU          N  \n",
      "3                   N        NaN          AACG          N  \n",
      "4                 NaN       AADR          AADR          N  \n",
      "...               ...        ...           ...        ...  \n",
      "8044              NaN        ZUO           ZUO          N  \n",
      "8045                N        NaN           ZVO          N  \n",
      "8046              NaN       ZYME          ZYME          N  \n",
      "8047                N        NaN          ZYNE          N  \n",
      "8048                N        NaN          ZYXI          N  \n",
      "\n",
      "[8049 rows x 12 columns]>\n"
     ]
    }
   ],
   "source": [
    "df = pd.read_csv(\"prices/symbols_valid_meta.csv\")\n",
    "symbol_list = df['Symbol'].tolist()\n",
    "\n",
    "for symbol in symbol_list:\n",
    "    symbol_df = pd.read_csv(f\"prices/symbols_merged/{symbol}.csv\")\n",
    "    \n",
    "\n",
    "print(df.head)"
   ]
  },
  {
   "cell_type": "code",
   "execution_count": null,
   "id": "b464d323",
   "metadata": {},
   "outputs": [],
   "source": [
    "## Model takes 1 month of stock movements as input (close - open), returns up or down (binary classification)\n",
    "\n",
    "## TODO: split data into months, and train\n",
    "## create labels for training, testing\n",
    "\n"
   ]
  }
 ],
 "metadata": {
  "kernelspec": {
   "display_name": ".venv",
   "language": "python",
   "name": "python3"
  },
  "language_info": {
   "codemirror_mode": {
    "name": "ipython",
    "version": 3
   },
   "file_extension": ".py",
   "mimetype": "text/x-python",
   "name": "python",
   "nbconvert_exporter": "python",
   "pygments_lexer": "ipython3",
   "version": "3.13.5"
  }
 },
 "nbformat": 4,
 "nbformat_minor": 5
}
