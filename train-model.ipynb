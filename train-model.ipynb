{
 "cells": [
  {
   "cell_type": "code",
   "execution_count": 4,
   "id": "0e2334ce",
   "metadata": {},
   "outputs": [],
   "source": [
    "import tensorflow as tf\n",
    "import pandas as pd\n",
    "import numpy as np\n",
    "import matplotlib.pyplot as plt\n",
    "import os\n"
   ]
  },
  {
   "cell_type": "code",
   "execution_count": 6,
   "id": "53e1545b",
   "metadata": {},
   "outputs": [],
   "source": [
    "base_dir = os.getcwd()\n",
    "data_file_path = os.path.join(base_dir, \"stock_data.npz\")"
   ]
  },
  {
   "cell_type": "code",
   "execution_count": 8,
   "id": "627ab921",
   "metadata": {},
   "outputs": [
    {
     "name": "stdout",
     "output_type": "stream",
     "text": [
      "X shape : (7948, 60)\n",
      "Y shape : (7948,)\n"
     ]
    }
   ],
   "source": [
    "data = np.load(\"stock_data.npz\")\n",
    "\n",
    "X = data['X_data']\n",
    "Y = data['Y_data']\n",
    "\n",
    "print(f\"X shape : {X.shape}\")\n",
    "print(f\"Y shape : {Y.shape}\")"
   ]
  },
  {
   "cell_type": "code",
   "execution_count": null,
   "id": "b464d323",
   "metadata": {},
   "outputs": [],
   "source": [
    "## Model takes 1 month of stock movements as input (close - open), returns up or down (binary classification)\n",
    "\n",
    "## TODO: split data into months, and train\n",
    "## create labels for training, testing\n",
    "\n"
   ]
  }
 ],
 "metadata": {
  "kernelspec": {
   "display_name": ".venv",
   "language": "python",
   "name": "python3"
  },
  "language_info": {
   "codemirror_mode": {
    "name": "ipython",
    "version": 3
   },
   "file_extension": ".py",
   "mimetype": "text/x-python",
   "name": "python",
   "nbconvert_exporter": "python",
   "pygments_lexer": "ipython3",
   "version": "3.13.5"
  }
 },
 "nbformat": 4,
 "nbformat_minor": 5
}
